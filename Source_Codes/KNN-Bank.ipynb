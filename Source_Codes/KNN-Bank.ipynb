{
 "cells": [
  {
   "cell_type": "code",
   "execution_count": 1,
   "metadata": {},
   "outputs": [],
   "source": [
    "from sklearn.neighbors import KNeighborsClassifier \n",
    "from sklearn import preprocessing\n",
    "import pandas as pd\n",
    "import numpy as np\n",
    "import seaborn as sns\n",
    "from matplotlib import pyplot as plt\n",
    "from sklearn.model_selection import train_test_split"
   ]
  },
  {
   "cell_type": "code",
   "execution_count": 2,
   "metadata": {},
   "outputs": [
    {
     "data": {
      "text/html": [
       "<div>\n",
       "<style scoped>\n",
       "    .dataframe tbody tr th:only-of-type {\n",
       "        vertical-align: middle;\n",
       "    }\n",
       "\n",
       "    .dataframe tbody tr th {\n",
       "        vertical-align: top;\n",
       "    }\n",
       "\n",
       "    .dataframe thead th {\n",
       "        text-align: right;\n",
       "    }\n",
       "</style>\n",
       "<table border=\"1\" class=\"dataframe\">\n",
       "  <thead>\n",
       "    <tr style=\"text-align: right;\">\n",
       "      <th></th>\n",
       "      <th>age</th>\n",
       "      <th>job</th>\n",
       "      <th>marital</th>\n",
       "      <th>education</th>\n",
       "      <th>default</th>\n",
       "      <th>balance</th>\n",
       "      <th>housing</th>\n",
       "      <th>loan</th>\n",
       "      <th>contact</th>\n",
       "      <th>day</th>\n",
       "      <th>month</th>\n",
       "      <th>duration</th>\n",
       "      <th>campaign</th>\n",
       "      <th>pdays</th>\n",
       "      <th>previous</th>\n",
       "      <th>poutcome</th>\n",
       "      <th>y</th>\n",
       "    </tr>\n",
       "  </thead>\n",
       "  <tbody>\n",
       "    <tr>\n",
       "      <th>0</th>\n",
       "      <td>58</td>\n",
       "      <td>management</td>\n",
       "      <td>married</td>\n",
       "      <td>tertiary</td>\n",
       "      <td>no</td>\n",
       "      <td>2143</td>\n",
       "      <td>yes</td>\n",
       "      <td>no</td>\n",
       "      <td>unknown</td>\n",
       "      <td>5</td>\n",
       "      <td>may</td>\n",
       "      <td>261</td>\n",
       "      <td>1</td>\n",
       "      <td>-1</td>\n",
       "      <td>0</td>\n",
       "      <td>unknown</td>\n",
       "      <td>no</td>\n",
       "    </tr>\n",
       "    <tr>\n",
       "      <th>1</th>\n",
       "      <td>44</td>\n",
       "      <td>technician</td>\n",
       "      <td>single</td>\n",
       "      <td>secondary</td>\n",
       "      <td>no</td>\n",
       "      <td>29</td>\n",
       "      <td>yes</td>\n",
       "      <td>no</td>\n",
       "      <td>unknown</td>\n",
       "      <td>5</td>\n",
       "      <td>may</td>\n",
       "      <td>151</td>\n",
       "      <td>1</td>\n",
       "      <td>-1</td>\n",
       "      <td>0</td>\n",
       "      <td>unknown</td>\n",
       "      <td>no</td>\n",
       "    </tr>\n",
       "    <tr>\n",
       "      <th>2</th>\n",
       "      <td>33</td>\n",
       "      <td>entrepreneur</td>\n",
       "      <td>married</td>\n",
       "      <td>secondary</td>\n",
       "      <td>no</td>\n",
       "      <td>2</td>\n",
       "      <td>yes</td>\n",
       "      <td>yes</td>\n",
       "      <td>unknown</td>\n",
       "      <td>5</td>\n",
       "      <td>may</td>\n",
       "      <td>76</td>\n",
       "      <td>1</td>\n",
       "      <td>-1</td>\n",
       "      <td>0</td>\n",
       "      <td>unknown</td>\n",
       "      <td>no</td>\n",
       "    </tr>\n",
       "    <tr>\n",
       "      <th>3</th>\n",
       "      <td>47</td>\n",
       "      <td>blue-collar</td>\n",
       "      <td>married</td>\n",
       "      <td>unknown</td>\n",
       "      <td>no</td>\n",
       "      <td>1506</td>\n",
       "      <td>yes</td>\n",
       "      <td>no</td>\n",
       "      <td>unknown</td>\n",
       "      <td>5</td>\n",
       "      <td>may</td>\n",
       "      <td>92</td>\n",
       "      <td>1</td>\n",
       "      <td>-1</td>\n",
       "      <td>0</td>\n",
       "      <td>unknown</td>\n",
       "      <td>no</td>\n",
       "    </tr>\n",
       "    <tr>\n",
       "      <th>4</th>\n",
       "      <td>33</td>\n",
       "      <td>unknown</td>\n",
       "      <td>single</td>\n",
       "      <td>unknown</td>\n",
       "      <td>no</td>\n",
       "      <td>1</td>\n",
       "      <td>no</td>\n",
       "      <td>no</td>\n",
       "      <td>unknown</td>\n",
       "      <td>5</td>\n",
       "      <td>may</td>\n",
       "      <td>198</td>\n",
       "      <td>1</td>\n",
       "      <td>-1</td>\n",
       "      <td>0</td>\n",
       "      <td>unknown</td>\n",
       "      <td>no</td>\n",
       "    </tr>\n",
       "    <tr>\n",
       "      <th>5</th>\n",
       "      <td>35</td>\n",
       "      <td>management</td>\n",
       "      <td>married</td>\n",
       "      <td>tertiary</td>\n",
       "      <td>no</td>\n",
       "      <td>231</td>\n",
       "      <td>yes</td>\n",
       "      <td>no</td>\n",
       "      <td>unknown</td>\n",
       "      <td>5</td>\n",
       "      <td>may</td>\n",
       "      <td>139</td>\n",
       "      <td>1</td>\n",
       "      <td>-1</td>\n",
       "      <td>0</td>\n",
       "      <td>unknown</td>\n",
       "      <td>no</td>\n",
       "    </tr>\n",
       "    <tr>\n",
       "      <th>6</th>\n",
       "      <td>28</td>\n",
       "      <td>management</td>\n",
       "      <td>single</td>\n",
       "      <td>tertiary</td>\n",
       "      <td>no</td>\n",
       "      <td>447</td>\n",
       "      <td>yes</td>\n",
       "      <td>yes</td>\n",
       "      <td>unknown</td>\n",
       "      <td>5</td>\n",
       "      <td>may</td>\n",
       "      <td>217</td>\n",
       "      <td>1</td>\n",
       "      <td>-1</td>\n",
       "      <td>0</td>\n",
       "      <td>unknown</td>\n",
       "      <td>no</td>\n",
       "    </tr>\n",
       "    <tr>\n",
       "      <th>7</th>\n",
       "      <td>42</td>\n",
       "      <td>entrepreneur</td>\n",
       "      <td>divorced</td>\n",
       "      <td>tertiary</td>\n",
       "      <td>yes</td>\n",
       "      <td>2</td>\n",
       "      <td>yes</td>\n",
       "      <td>no</td>\n",
       "      <td>unknown</td>\n",
       "      <td>5</td>\n",
       "      <td>may</td>\n",
       "      <td>380</td>\n",
       "      <td>1</td>\n",
       "      <td>-1</td>\n",
       "      <td>0</td>\n",
       "      <td>unknown</td>\n",
       "      <td>no</td>\n",
       "    </tr>\n",
       "    <tr>\n",
       "      <th>8</th>\n",
       "      <td>58</td>\n",
       "      <td>retired</td>\n",
       "      <td>married</td>\n",
       "      <td>primary</td>\n",
       "      <td>no</td>\n",
       "      <td>121</td>\n",
       "      <td>yes</td>\n",
       "      <td>no</td>\n",
       "      <td>unknown</td>\n",
       "      <td>5</td>\n",
       "      <td>may</td>\n",
       "      <td>50</td>\n",
       "      <td>1</td>\n",
       "      <td>-1</td>\n",
       "      <td>0</td>\n",
       "      <td>unknown</td>\n",
       "      <td>no</td>\n",
       "    </tr>\n",
       "    <tr>\n",
       "      <th>9</th>\n",
       "      <td>43</td>\n",
       "      <td>technician</td>\n",
       "      <td>single</td>\n",
       "      <td>secondary</td>\n",
       "      <td>no</td>\n",
       "      <td>593</td>\n",
       "      <td>yes</td>\n",
       "      <td>no</td>\n",
       "      <td>unknown</td>\n",
       "      <td>5</td>\n",
       "      <td>may</td>\n",
       "      <td>55</td>\n",
       "      <td>1</td>\n",
       "      <td>-1</td>\n",
       "      <td>0</td>\n",
       "      <td>unknown</td>\n",
       "      <td>no</td>\n",
       "    </tr>\n",
       "  </tbody>\n",
       "</table>\n",
       "</div>"
      ],
      "text/plain": [
       "   age           job   marital  education default  balance housing loan  \\\n",
       "0   58    management   married   tertiary      no     2143     yes   no   \n",
       "1   44    technician    single  secondary      no       29     yes   no   \n",
       "2   33  entrepreneur   married  secondary      no        2     yes  yes   \n",
       "3   47   blue-collar   married    unknown      no     1506     yes   no   \n",
       "4   33       unknown    single    unknown      no        1      no   no   \n",
       "5   35    management   married   tertiary      no      231     yes   no   \n",
       "6   28    management    single   tertiary      no      447     yes  yes   \n",
       "7   42  entrepreneur  divorced   tertiary     yes        2     yes   no   \n",
       "8   58       retired   married    primary      no      121     yes   no   \n",
       "9   43    technician    single  secondary      no      593     yes   no   \n",
       "\n",
       "   contact  day month  duration  campaign  pdays  previous poutcome   y  \n",
       "0  unknown    5   may       261         1     -1         0  unknown  no  \n",
       "1  unknown    5   may       151         1     -1         0  unknown  no  \n",
       "2  unknown    5   may        76         1     -1         0  unknown  no  \n",
       "3  unknown    5   may        92         1     -1         0  unknown  no  \n",
       "4  unknown    5   may       198         1     -1         0  unknown  no  \n",
       "5  unknown    5   may       139         1     -1         0  unknown  no  \n",
       "6  unknown    5   may       217         1     -1         0  unknown  no  \n",
       "7  unknown    5   may       380         1     -1         0  unknown  no  \n",
       "8  unknown    5   may        50         1     -1         0  unknown  no  \n",
       "9  unknown    5   may        55         1     -1         0  unknown  no  "
      ]
     },
     "execution_count": 2,
     "metadata": {},
     "output_type": "execute_result"
    }
   ],
   "source": [
    "df = pd.read_csv('bank-full.csv',delimiter=';')\n",
    "df.head(10)"
   ]
  },
  {
   "cell_type": "code",
   "execution_count": 3,
   "metadata": {},
   "outputs": [
    {
     "data": {
      "text/plain": [
       "45211"
      ]
     },
     "execution_count": 3,
     "metadata": {},
     "output_type": "execute_result"
    }
   ],
   "source": [
    "len(df)"
   ]
  },
  {
   "cell_type": "code",
   "execution_count": 4,
   "metadata": {},
   "outputs": [
    {
     "name": "stdout",
     "output_type": "stream",
     "text": [
      "job\n",
      "education\n",
      "contact\n",
      "previous\n",
      "poutcome\n"
     ]
    },
    {
     "name": "stderr",
     "output_type": "stream",
     "text": [
      "C:\\Users\\brand\\Anaconda3\\lib\\site-packages\\ipykernel_launcher.py:4: FutureWarning: elementwise comparison failed; returning scalar instead, but in the future will perform elementwise comparison\n",
      "  after removing the cwd from sys.path.\n"
     ]
    }
   ],
   "source": [
    "df['previous'] = ['unknown' if x == 999 else x for x in df['contact']]\n",
    "\n",
    "for i in df.columns:\n",
    "    if 'unknown' in (df[str(i)].unique()):\n",
    "        print(i)"
   ]
  },
  {
   "cell_type": "code",
   "execution_count": 5,
   "metadata": {
    "scrolled": true
   },
   "outputs": [
    {
     "name": "stdout",
     "output_type": "stream",
     "text": [
      "job unknown is: 288\n",
      "education unknown is: 1857\n",
      "contact unknown is: 13020\n",
      "previous unknown is: 13020\n",
      "poutcome unknown is: 36959\n"
     ]
    }
   ],
   "source": [
    "job_unknown = len(df[df.job =='unknown'])\n",
    "education_unknown = len(df[df.education == 'unknown'])\n",
    "contact_unknown = len(df[df.contact == 'unknown'])\n",
    "previous_unknown = len(df[df.previous == 'unknown'])\n",
    "poutcome_unknown = len(df[df.poutcome == 'unknown'])\n",
    "\n",
    "print('job unknown is: '+str(job_unknown))\n",
    "print('education unknown is: '+str(education_unknown))\n",
    "print('contact unknown is: '+str(contact_unknown))\n",
    "print('previous unknown is: '+str(previous_unknown))\n",
    "print('poutcome unknown is: '+str(poutcome_unknown))"
   ]
  },
  {
   "cell_type": "code",
   "execution_count": 6,
   "metadata": {},
   "outputs": [],
   "source": [
    "df = df[(df.job != 'unknown') & (df.education != 'unknown')].drop(columns=['contact','poutcome','duration','previous'])"
   ]
  },
  {
   "cell_type": "code",
   "execution_count": 7,
   "metadata": {},
   "outputs": [
    {
     "name": "stdout",
     "output_type": "stream",
     "text": [
      "job unknown is: 0\n",
      "education unknown is: 0\n"
     ]
    }
   ],
   "source": [
    "job_unknown = len(df[df.job =='unknown'])\n",
    "education_unknown = len(df[df.education == 'unknown'])\n",
    "\n",
    "print('job unknown is: '+str(job_unknown))\n",
    "print('education unknown is: '+str(education_unknown))"
   ]
  },
  {
   "cell_type": "code",
   "execution_count": 21,
   "metadata": {
    "scrolled": false
   },
   "outputs": [
    {
     "data": {
      "text/plain": [
       "<matplotlib.axes._subplots.AxesSubplot at 0x13a467749b0>"
      ]
     },
     "execution_count": 21,
     "metadata": {},
     "output_type": "execute_result"
    },
    {
     "data": {
      "image/png": "[encoded data removed]",
      "text/plain": [
       "<Figure size 720x720 with 2 Axes>"
      ]
     },
     "metadata": {},
     "output_type": "display_data"
    }
   ],
   "source": [
    "plt.figure(figsize=(10,10))\n",
    "\n",
    "plt.subplot(2,1,1)\n",
    "sns.boxplot(x=df['balance'])\n",
    "\n",
    "plt.subplot(2,1,2)\n",
    "sns.boxplot(x=df['age'])"
   ]
  },
  {
   "cell_type": "code",
   "execution_count": 9,
   "metadata": {},
   "outputs": [],
   "source": [
    "le = preprocessing.LabelEncoder()"
   ]
  },
  {
   "cell_type": "code",
   "execution_count": 10,
   "metadata": {},
   "outputs": [],
   "source": [
    "for feature in df.columns:\n",
    "    if str(type(df[str(feature)][0])) == \"<class 'numpy.int64'>\":\n",
    "        df[feature+'_norm'] = np.array([((i-df[feature].min())/(df[feature].max()-df[feature].min())) for i in df[feature]])\n",
    "    else:\n",
    "        encoded = le.fit_transform(df[feature])\n",
    "        df[feature+'_norm'] = np.array([((i-encoded.min())/(encoded.max()-encoded.min())) for i in encoded])"
   ]
  },
  {
   "cell_type": "code",
   "execution_count": 11,
   "metadata": {},
   "outputs": [],
   "source": [
    "feat_1 = df[['age_norm','job_norm','marital_norm','education_norm','default_norm','housing_norm','loan_norm','month_norm'\n",
    "             ,'balance_norm','day_norm']]\n",
    "target = df['y']\n",
    "\n",
    "training_data_1 ,validation_data_1, training_label, validation_label = train_test_split(feat_1,target,train_size=0.8,\n",
    "                                                                       test_size=0.2, random_state=1)"
   ]
  },
  {
   "cell_type": "code",
   "execution_count": 12,
   "metadata": {},
   "outputs": [],
   "source": [
    "accuracy_model_1 = []\n",
    "\n",
    "for k in range(1,101):\n",
    "    model_1 = KNeighborsClassifier(n_neighbors=k)\n",
    "    model_1.fit(training_data_1,training_label)\n",
    "    accuracy_model_1.append(model_1.score(validation_data_1,validation_label))"
   ]
  },
  {
   "cell_type": "code",
   "execution_count": 13,
   "metadata": {},
   "outputs": [
    {
     "name": "stdout",
     "output_type": "stream",
     "text": [
      "highest k-score: 6\n",
      "best accuracy score: 0.8843616159277694\n"
     ]
    }
   ],
   "source": [
    "print('highest k-score: ' +str(accuracy_model_1.index(max(accuracy_model_1))+1))\n",
    "print('best accuracy score: '+ str(max(accuracy_model_1)))"
   ]
  },
  {
   "cell_type": "code",
   "execution_count": 14,
   "metadata": {},
   "outputs": [],
   "source": [
    "feat_2 = df[['job_norm','marital_norm','default_norm']]\n",
    "training_data_2 ,validation_data_2, training_label, validation_label = train_test_split(feat_2,target,train_size=0.8,\n",
    "                                                                                        test_size=0.2, random_state=1) "
   ]
  },
  {
   "cell_type": "code",
   "execution_count": 15,
   "metadata": {},
   "outputs": [
    {
     "name": "stdout",
     "output_type": "stream",
     "text": [
      "highest k-score: 10\n",
      "best accuracy score: 0.8835513369602963\n"
     ]
    }
   ],
   "source": [
    "accuracy_model_2 = []\n",
    "\n",
    "for k in range(1,101):\n",
    "    model_2 = KNeighborsClassifier(n_neighbors=k)\n",
    "    model_2.fit(training_data_2,training_label)\n",
    "    accuracy_model_2.append(model_2.score(validation_data_2,validation_label))\n",
    "    \n",
    "print('highest k-score: ' +str(accuracy_model_2.index(max(accuracy_model_2))+1))\n",
    "print('best accuracy score: '+ str(max(accuracy_model_2)))"
   ]
  },
  {
   "cell_type": "code",
   "execution_count": 16,
   "metadata": {},
   "outputs": [],
   "source": [
    "df_z = pd.read_csv('bank-full.csv',delimiter=';')\n",
    "df_z = df_z[(df_z.job != 'unknown') & (df_z.education != 'unknown')].drop(columns=['contact','poutcome','duration'])\n",
    "\n",
    "for feature in df_z.columns:\n",
    "    if str(type(df_z[str(feature)][0])) == \"<class 'numpy.int64'>\":\n",
    "        df_z[feature+'_norm_z'] = np.array([((i-df_z[feature].mean())/df_z[feature].std()) for i in df_z[feature]])\n",
    "    else:\n",
    "        encoded = le.fit_transform(df_z[feature])\n",
    "        df_z[feature+'_norm_z'] = np.array([((i-encoded.mean())/encoded.std()) for i in encoded])"
   ]
  },
  {
   "cell_type": "code",
   "execution_count": 17,
   "metadata": {},
   "outputs": [],
   "source": [
    "feat_3 = df_z[['age_norm_z','job_norm_z','marital_norm_z','education_norm_z','default_norm_z','balance_norm_z','housing_norm_z',\n",
    "               'loan_norm_z','day_norm_z','month_norm_z','campaign_norm_z','pdays_norm_z']]\n",
    "target_z = df_z['y']\n",
    "training_data_3 ,validation_data_3, training_label_z, validation_label_z = train_test_split(feat_3,target_z,train_size=0.8,\n",
    "                                                                                            test_size=0.2, random_state=1) "
   ]
  },
  {
   "cell_type": "code",
   "execution_count": 18,
   "metadata": {},
   "outputs": [
    {
     "name": "stdout",
     "output_type": "stream",
     "text": [
      "highest k-score: 18\n",
      "best accuracy score: 0.8852876490334529\n"
     ]
    }
   ],
   "source": [
    "accuracy_model_3 = []\n",
    "\n",
    "for k in range(1,101):\n",
    "    model_3 = KNeighborsClassifier(n_neighbors=k)\n",
    "    model_3.fit(training_data_3,training_label_z)\n",
    "    accuracy_model_3.append(model_3.score(validation_data_3,validation_label_z))\n",
    "    \n",
    "print('highest k-score: ' +str(accuracy_model_3.index(max(accuracy_model_3))+1))\n",
    "print('best accuracy score: '+ str(max(accuracy_model_3)))"
   ]
  },
  {
   "cell_type": "code",
   "execution_count": 19,
   "metadata": {},
   "outputs": [],
   "source": [
    "feat_4 = df_z[['job_norm_z','marital_norm_z','default_norm_z']]\n",
    "target_z = df_z['y']\n",
    "training_data_4 ,validation_data_4, training_label_z, validation_label_z = train_test_split(feat_4,target_z,train_size=0.8,\n",
    "                                                                                            test_size=0.2, random_state=1) "
   ]
  },
  {
   "cell_type": "code",
   "execution_count": 20,
   "metadata": {},
   "outputs": [
    {
     "name": "stdout",
     "output_type": "stream",
     "text": [
      "highest k-score: 2\n",
      "best accuracy score: 0.8835513369602963\n"
     ]
    }
   ],
   "source": [
    "accuracy_model_4 = []\n",
    "\n",
    "for k in range(1,101):\n",
    "    model_4 = KNeighborsClassifier(n_neighbors=k)\n",
    "    model_4.fit(training_data_4,training_label_z)\n",
    "    accuracy_model_4.append(model_4.score(validation_data_4,validation_label_z))\n",
    "    \n",
    "print('highest k-score: ' +str(accuracy_model_4.index(max(accuracy_model_4))+1))\n",
    "print('best accuracy score: '+ str(max(accuracy_model_4)))"
   ]
  },
  {
   "cell_type": "code",
   "execution_count": null,
   "metadata": {},
   "outputs": [],
   "source": []
  },
  {
   "cell_type": "code",
   "execution_count": null,
   "metadata": {},
   "outputs": [],
   "source": []
  }
 ],
 "metadata": {
  "kernelspec": {
   "display_name": "Python 3",
   "language": "python",
   "name": "python3"
  },
  "language_info": {
   "codemirror_mode": {
    "name": "ipython",
    "version": 3
   },
   "file_extension": ".py",
   "mimetype": "text/x-python",
   "name": "python",
   "nbconvert_exporter": "python",
   "pygments_lexer": "ipython3",
   "version": "3.6.5"
  }
 },
 "nbformat": 4,
 "nbformat_minor": 2
}
